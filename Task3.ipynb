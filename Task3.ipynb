{
  "nbformat": 4,
  "nbformat_minor": 0,
  "metadata": {
    "colab": {
      "provenance": []
    },
    "kernelspec": {
      "name": "python3",
      "display_name": "Python 3"
    },
    "language_info": {
      "name": "python"
    }
  },
  "cells": [
    {
      "cell_type": "code",
      "source": [
        "import random\n"
      ],
      "metadata": {
        "id": "jiiNROxLGPGj"
      },
      "execution_count": null,
      "outputs": []
    },
    {
      "cell_type": "code",
      "source": [
        "input_text = \"\"\"\n",
        "Success is not final, failure is not fatal. It is the courage to continue that counts.\n",
        "Every step you take brings you closer to your dreams. Stay focused, work hard, and believe in yourself.\n",
        "Great things take time, but consistency always wins.\n",
        "\"\"\"\n"
      ],
      "metadata": {
        "id": "98f9s7AEGQ0k"
      },
      "execution_count": null,
      "outputs": []
    },
    {
      "cell_type": "code",
      "source": [
        "words = input_text.split()\n",
        "print(words)  # Optional: See the tokenized list\n"
      ],
      "metadata": {
        "colab": {
          "base_uri": "https://localhost:8080/"
        },
        "id": "iRV7_sRoGTt9",
        "outputId": "6dc8ad38-ddb7-4093-bc37-634984b9cdd4"
      },
      "execution_count": null,
      "outputs": [
        {
          "output_type": "stream",
          "name": "stdout",
          "text": [
            "['Success', 'is', 'not', 'final,', 'failure', 'is', 'not', 'fatal.', 'It', 'is', 'the', 'courage', 'to', 'continue', 'that', 'counts.', 'Every', 'step', 'you', 'take', 'brings', 'you', 'closer', 'to', 'your', 'dreams.', 'Stay', 'focused,', 'work', 'hard,', 'and', 'believe', 'in', 'yourself.', 'Great', 'things', 'take', 'time,', 'but', 'consistency', 'always', 'wins.']\n"
          ]
        }
      ]
    },
    {
      "cell_type": "code",
      "source": [
        "markov_chain = {}\n",
        "\n",
        "for i in range(len(words) - 1):\n",
        "    current_word = words[i]\n",
        "    next_word = words[i + 1]\n",
        "\n",
        "    if current_word not in markov_chain:\n",
        "        markov_chain[current_word] = []\n",
        "\n",
        "    markov_chain[current_word].append(next_word)\n",
        "\n",
        "print(markov_chain)  # Optional: View the Markov dictionary\n",
        "\n"
      ],
      "metadata": {
        "colab": {
          "base_uri": "https://localhost:8080/"
        },
        "id": "DehGxDF-Evvs",
        "outputId": "c6450457-efb9-4da4-f291-87dcd75f2300"
      },
      "execution_count": null,
      "outputs": [
        {
          "output_type": "stream",
          "name": "stdout",
          "text": [
            "{'Success': ['is'], 'is': ['not', 'not', 'the'], 'not': ['final,', 'fatal.'], 'final,': ['failure'], 'failure': ['is'], 'fatal.': ['It'], 'It': ['is'], 'the': ['courage'], 'courage': ['to'], 'to': ['continue', 'your'], 'continue': ['that'], 'that': ['counts.'], 'counts.': ['Every'], 'Every': ['step'], 'step': ['you'], 'you': ['take', 'closer'], 'take': ['brings', 'time,'], 'brings': ['you'], 'closer': ['to'], 'your': ['dreams.'], 'dreams.': ['Stay'], 'Stay': ['focused,'], 'focused,': ['work'], 'work': ['hard,'], 'hard,': ['and'], 'and': ['believe'], 'believe': ['in'], 'in': ['yourself.'], 'yourself.': ['Great'], 'Great': ['things'], 'things': ['take'], 'time,': ['but'], 'but': ['consistency'], 'consistency': ['always'], 'always': ['wins.']}\n"
          ]
        }
      ]
    },
    {
      "cell_type": "code",
      "source": [
        "# Pick a random starting word\n",
        "word = random.choice(words)\n",
        "generated_text = [word]  # List to hold generated sentence\n"
      ],
      "metadata": {
        "id": "6BU2xhUCGXm9"
      },
      "execution_count": null,
      "outputs": []
    },
    {
      "cell_type": "code",
      "source": [
        "for _ in range(50):  # You can change 50 to any number of words\n",
        "    if word in markov_chain:\n",
        "        word = random.choice(markov_chain[word])  # Choose next word\n",
        "        generated_text.append(word)\n",
        "    else:\n",
        "        break  # Stop if no next word is found\n"
      ],
      "metadata": {
        "id": "aWmgMqCzGnXc"
      },
      "execution_count": null,
      "outputs": []
    },
    {
      "cell_type": "code",
      "source": [
        "output = ' '.join(generated_text)\n",
        "print(\"Generated Text:\\n\")\n",
        "print(output)\n"
      ],
      "metadata": {
        "colab": {
          "base_uri": "https://localhost:8080/"
        },
        "id": "H0cVNIbtGrPS",
        "outputId": "170b1a69-8813-4559-801a-4f935400336c"
      },
      "execution_count": null,
      "outputs": [
        {
          "output_type": "stream",
          "name": "stdout",
          "text": [
            "Generated Text:\n",
            "\n",
            "focused, work hard, and believe in yourself. Great things take time, but consistency always wins.\n"
          ]
        }
      ]
    }
  ]
}